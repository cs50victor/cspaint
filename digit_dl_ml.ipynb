{
  "nbformat": 4,
  "nbformat_minor": 0,
  "metadata": {
    "colab": {
      "name": "digit_dl_ml.ipynb",
      "provenance": [],
      "collapsed_sections": []
    },
    "kernelspec": {
      "display_name": "Python 3",
      "language": "python",
      "name": "python3"
    },
    "language_info": {
      "codemirror_mode": {
        "name": "ipython",
        "version": 3
      },
      "file_extension": ".py",
      "mimetype": "text/x-python",
      "name": "python",
      "nbconvert_exporter": "python",
      "pygments_lexer": "ipython3",
      "version": "3.7.9-final"
    }
  },
  "cells": [
    {
      "cell_type": "code",
      "metadata": {
        "id": "Hf5goSlI3YRz"
      },
      "source": [
        "import tensorflow as tf\n",
        "import matplotlib.pyplot as plt\n",
        "\n",
        "from keras.models import Sequential\n",
        "from keras.layers import Dense\n",
        "from keras.layers import Dropout\n",
        "from keras.layers import Flatten\n",
        "from keras.layers.convolutional import Conv2D\n",
        "from keras.layers.convolutional import MaxPooling2D\n",
        "from keras.utils import np_utils\n",
        "\n",
        "import numpy as np"
      ],
      "execution_count": 6,
      "outputs": []
    },
    {
      "cell_type": "code",
      "metadata": {
        "id": "KVRj-c0X3eMv"
      },
      "source": [
        "mnist = tf.keras.datasets.mnist"
      ],
      "execution_count": 8,
      "outputs": []
    },
    {
      "cell_type": "code",
      "metadata": {
        "id": "0O7tcEmW3onV"
      },
      "source": [
        "x_train= tf.keras.utils.normalize(x_train,axis=1)\r\n",
        "x_test= tf.keras.utils.normalize(x_test,axis=1)"
      ],
      "execution_count": 9,
      "outputs": [
        {
          "output_type": "error",
          "ename": "NameError",
          "evalue": "name 'x_train' is not defined",
          "traceback": [
            "\u001b[1;31m---------------------------------------------------------------------------\u001b[0m",
            "\u001b[1;31mNameError\u001b[0m                                 Traceback (most recent call last)",
            "\u001b[1;32m<ipython-input-9-f40828dc380f>\u001b[0m in \u001b[0;36m<module>\u001b[1;34m\u001b[0m\n\u001b[1;32m----> 1\u001b[1;33m \u001b[0mx_train\u001b[0m\u001b[1;33m=\u001b[0m \u001b[0mtf\u001b[0m\u001b[1;33m.\u001b[0m\u001b[0mkeras\u001b[0m\u001b[1;33m.\u001b[0m\u001b[0mutils\u001b[0m\u001b[1;33m.\u001b[0m\u001b[0mnormalize\u001b[0m\u001b[1;33m(\u001b[0m\u001b[0mx_train\u001b[0m\u001b[1;33m,\u001b[0m\u001b[0maxis\u001b[0m\u001b[1;33m=\u001b[0m\u001b[1;36m1\u001b[0m\u001b[1;33m)\u001b[0m\u001b[1;33m\u001b[0m\u001b[1;33m\u001b[0m\u001b[0m\n\u001b[0m\u001b[0;32m      2\u001b[0m \u001b[0mx_test\u001b[0m\u001b[1;33m=\u001b[0m \u001b[0mtf\u001b[0m\u001b[1;33m.\u001b[0m\u001b[0mkeras\u001b[0m\u001b[1;33m.\u001b[0m\u001b[0mutils\u001b[0m\u001b[1;33m.\u001b[0m\u001b[0mnormalize\u001b[0m\u001b[1;33m(\u001b[0m\u001b[0mx_test\u001b[0m\u001b[1;33m,\u001b[0m\u001b[0maxis\u001b[0m\u001b[1;33m=\u001b[0m\u001b[1;36m1\u001b[0m\u001b[1;33m)\u001b[0m\u001b[1;33m\u001b[0m\u001b[1;33m\u001b[0m\u001b[0m\n",
            "\u001b[1;31mNameError\u001b[0m: name 'x_train' is not defined"
          ]
        }
      ]
    },
    {
      "cell_type": "markdown",
      "metadata": {
        "id": "OIl-NBQiZKfx"
      },
      "source": [
        "MLPClassifier: Multi-Layer Perceptron"
      ]
    },
    {
      "cell_type": "code",
      "metadata": {
        "id": "timKBJoW4CMN"
      },
      "source": [
        "x_train= tf.keras.utils.normalize(x_train,axis=1)\n",
        "x_test= tf.keras.utils.normalize(x_test,axis=1)"
      ],
      "execution_count": null,
      "outputs": []
    },
    {
      "cell_type": "code",
      "metadata": {
        "id": "bNqTbMWR4FWl"
      },
      "source": [
        "mlp_model=tf.keras.models.Sequential()\n",
        "mlp_model.add(tf.keras.layers.Flatten()) # takes 28 x 28 images and makes it 1 x 784\n",
        "mlp_model.add(tf.keras.layers.Dense(128,activation=tf.nn.relu)) # simple fully connected layer\n",
        "mlp_model.add(tf.keras.layers.Dense(128,activation=tf.nn.relu))\n",
        "mlp_model.add(tf.keras.layers.Dense(10,activation=tf.nn.softmax))"
      ],
      "execution_count": null,
      "outputs": []
    },
    {
      "cell_type": "code",
      "metadata": {
        "id": "gyRgMUBG4G9u"
      },
      "source": [
        "mlp_model.compile(optimizer='adam',\n",
        "             loss='sparse_categorical_crossentropy', #minimizing loss by calculating error\n",
        "             metrics=['accuracy'])"
      ],
      "execution_count": null,
      "outputs": []
    },
    {
      "cell_type": "code",
      "metadata": {
        "colab": {
          "base_uri": "https://localhost:8080/"
        },
        "id": "1A96mZ383ziU",
        "outputId": "23969956-0082-4ea0-b768-1aa190251e9c"
      },
      "source": [
        "mlp_model.fit(x_train,y_train,epochs=15)"
      ],
      "execution_count": null,
      "outputs": [
        {
          "output_type": "stream",
          "text": [
            "Epoch 1/15\n",
            "1875/1875 [==============================] - 4s 2ms/step - loss: 0.4685 - accuracy: 0.8658\n",
            "Epoch 2/15\n",
            "1875/1875 [==============================] - 3s 2ms/step - loss: 0.1132 - accuracy: 0.9645\n",
            "Epoch 3/15\n",
            "1875/1875 [==============================] - 3s 2ms/step - loss: 0.0736 - accuracy: 0.9769\n",
            "Epoch 4/15\n",
            "1875/1875 [==============================] - 3s 2ms/step - loss: 0.0523 - accuracy: 0.9834\n",
            "Epoch 5/15\n",
            "1875/1875 [==============================] - 3s 2ms/step - loss: 0.0383 - accuracy: 0.9883\n",
            "Epoch 6/15\n",
            "1875/1875 [==============================] - 3s 2ms/step - loss: 0.0293 - accuracy: 0.9898\n",
            "Epoch 7/15\n",
            "1875/1875 [==============================] - 3s 2ms/step - loss: 0.0223 - accuracy: 0.9926\n",
            "Epoch 8/15\n",
            "1875/1875 [==============================] - 3s 2ms/step - loss: 0.0199 - accuracy: 0.9935\n",
            "Epoch 9/15\n",
            "1875/1875 [==============================] - 3s 2ms/step - loss: 0.0174 - accuracy: 0.9940\n",
            "Epoch 10/15\n",
            "1875/1875 [==============================] - 3s 2ms/step - loss: 0.0122 - accuracy: 0.9958\n",
            "Epoch 11/15\n",
            "1875/1875 [==============================] - 4s 2ms/step - loss: 0.0131 - accuracy: 0.9957\n",
            "Epoch 12/15\n",
            "1875/1875 [==============================] - 3s 2ms/step - loss: 0.0098 - accuracy: 0.9964\n",
            "Epoch 13/15\n",
            "1875/1875 [==============================] - 3s 2ms/step - loss: 0.0092 - accuracy: 0.9969\n",
            "Epoch 14/15\n",
            "1875/1875 [==============================] - 3s 2ms/step - loss: 0.0087 - accuracy: 0.9971\n",
            "Epoch 15/15\n",
            "1875/1875 [==============================] - 3s 2ms/step - loss: 0.0074 - accuracy: 0.9973\n"
          ],
          "name": "stdout"
        },
        {
          "output_type": "execute_result",
          "data": {
            "text/plain": [
              "<tensorflow.python.keras.callbacks.History at 0x7f36a49b4208>"
            ]
          },
          "metadata": {
            "tags": []
          },
          "execution_count": 341
        }
      ]
    },
    {
      "cell_type": "code",
      "metadata": {
        "colab": {
          "base_uri": "https://localhost:8080/"
        },
        "id": "wLIIa3vG4qIG",
        "outputId": "b8bc2fd0-4e96-47b3-9ff0-d9a855fc8234"
      },
      "source": [
        "val_loss, mlp_model_accuracy = mlp_model.evaluate(x_test,y_test)\n"
      ],
      "execution_count": null,
      "outputs": [
        {
          "output_type": "stream",
          "text": [
            "313/313 [==============================] - 0s 968us/step - loss: 0.1680 - accuracy: 0.9696\n"
          ],
          "name": "stdout"
        }
      ]
    },
    {
      "cell_type": "code",
      "metadata": {
        "id": "UaWaDbHVdZ_4"
      },
      "source": [
        "val_acc"
      ],
      "execution_count": null,
      "outputs": []
    },
    {
      "cell_type": "code",
      "metadata": {
        "colab": {
          "base_uri": "https://localhost:8080/"
        },
        "id": "gf_jTJBe41dl",
        "outputId": "138c6398-4e7e-49e0-beba-2907ff73a9bf"
      },
      "source": [
        "mlp_model.save('digit_predictor_model_mlp.model')\n"
      ],
      "execution_count": null,
      "outputs": [
        {
          "output_type": "stream",
          "text": [
            "INFO:tensorflow:Assets written to: digit_predictor_model.model\\assets\n"
          ],
          "name": "stdout"
        }
      ]
    },
    {
      "cell_type": "code",
      "metadata": {
        "id": "o_LNcAVc3ziW"
      },
      "source": [
        "mlp_model = tf.keras.models.load_model('digit_predictor_model_mlp.model') # multilayer percetrons\n"
      ],
      "execution_count": null,
      "outputs": []
    },
    {
      "cell_type": "code",
      "metadata": {
        "id": "4cV0Fx5C3ziW",
        "outputId": "9315efdf-cc68-4e94-9262-8725142b013b"
      },
      "source": [
        "x_test[0,:].shape"
      ],
      "execution_count": null,
      "outputs": [
        {
          "output_type": "execute_result",
          "data": {
            "text/plain": [
              "(28, 28)"
            ]
          },
          "metadata": {
            "tags": []
          },
          "execution_count": 63
        }
      ]
    },
    {
      "cell_type": "code",
      "metadata": {
        "id": "SOWAdZ3t3ziW"
      },
      "source": [
        "prediction = mlp_model.predict(np.expand_dims(x_test[1],0))\n",
        "np.argmax(prediction)"
      ],
      "execution_count": null,
      "outputs": []
    },
    {
      "cell_type": "markdown",
      "metadata": {
        "id": "UYjLhzwFdy9_"
      },
      "source": [
        "Convolutional Neural Network"
      ]
    },
    {
      "cell_type": "code",
      "metadata": {
        "colab": {
          "base_uri": "https://localhost:8080/"
        },
        "id": "qGl7gzT_3ziY",
        "outputId": "6c59f4e2-c060-42f8-db0c-dea998dedf34"
      },
      "source": [
        "\n",
        "# Simple CNN for the MNIST Dataset\n",
        "from keras.datasets import mnist\n",
        "from keras.models import Sequential\n",
        "from keras.layers import Dense\n",
        "from keras.layers import Dropout\n",
        "from keras.layers import Flatten\n",
        "from keras.layers.convolutional import Conv2D\n",
        "from keras.layers.convolutional import MaxPooling2D\n",
        "from keras.utils import np_utils\n",
        "# load data\n",
        "(X_train, y_train), (X_test, y_test) = mnist.load_data()\n",
        "# reshape to be [samples][width][height][channels]\n",
        "X_train = X_train.reshape((X_train.shape[0], 28, 28, 1)).astype('float32')\n",
        "X_test = X_test.reshape((X_test.shape[0], 28, 28, 1)).astype('float32')\n",
        "# normalize inputs from 0-255 to 0-1\n",
        "X_train = X_train / 255\n",
        "X_test = X_test / 255\n",
        "# one hot encode outputs\n",
        "y_train = np_utils.to_categorical(y_train)\n",
        "y_test = np_utils.to_categorical(y_test)\n",
        "num_classes = y_test.shape[1]\n",
        "# define a simple CNN model\n",
        "\n",
        "cnn_model = Sequential()\n",
        "cnn_model.add(Conv2D(32, (5, 5), input_shape=(28, 28, 1), activation='relu'))\n",
        "cnn_model.add(MaxPooling2D())\n",
        "cnn_model.add(Dropout(0.2))\n",
        "cnn_model.add(Flatten())\n",
        "cnn_model.add(Dense(128, activation='relu'))\n",
        "cnn_model.add(Dense(num_classes, activation='softmax'))\n",
        "# Compile model\n",
        "cnn_model.compile(loss='categorical_crossentropy', optimizer='adam', metrics=['accuracy'])\n",
        "\n",
        "# Fit the model\n",
        "cnn_model.fit(X_train, y_train, validation_data=(X_test, y_test), epochs=10, batch_size=200)\n",
        "# Final evaluation of the model"
      ],
      "execution_count": null,
      "outputs": [
        {
          "output_type": "stream",
          "text": [
            "Epoch 1/10\n",
            "300/300 [==============================] - 30s 99ms/step - loss: 0.5025 - accuracy: 0.8536 - val_loss: 0.0763 - val_accuracy: 0.9770\n",
            "Epoch 2/10\n",
            "300/300 [==============================] - 30s 99ms/step - loss: 0.0845 - accuracy: 0.9746 - val_loss: 0.0462 - val_accuracy: 0.9860\n",
            "Epoch 3/10\n",
            "300/300 [==============================] - 30s 99ms/step - loss: 0.0539 - accuracy: 0.9838 - val_loss: 0.0437 - val_accuracy: 0.9855\n",
            "Epoch 4/10\n",
            "300/300 [==============================] - 29s 98ms/step - loss: 0.0424 - accuracy: 0.9872 - val_loss: 0.0400 - val_accuracy: 0.9869\n",
            "Epoch 5/10\n",
            "300/300 [==============================] - 29s 96ms/step - loss: 0.0340 - accuracy: 0.9898 - val_loss: 0.0342 - val_accuracy: 0.9873\n",
            "Epoch 6/10\n",
            "300/300 [==============================] - 29s 97ms/step - loss: 0.0284 - accuracy: 0.9912 - val_loss: 0.0329 - val_accuracy: 0.9885\n",
            "Epoch 7/10\n",
            "102/300 [=========>....................] - ETA: 18s - loss: 0.0243 - accuracy: 0.9930"
          ],
          "name": "stdout"
        }
      ]
    },
    {
      "cell_type": "code",
      "metadata": {
        "colab": {
          "base_uri": "https://localhost:8080/"
        },
        "id": "7l6RefgV3ziY",
        "outputId": "626d175b-4cf5-4530-f3b2-a208bbc3d105"
      },
      "source": [
        "val_loss, cnn_model_accuracy = cnn_model.evaluate(X_test,y_test)"
      ],
      "execution_count": null,
      "outputs": [
        {
          "output_type": "stream",
          "text": [
            "313/313 [==============================] - 2s 6ms/step - loss: 0.0295 - accuracy: 0.9914\n"
          ],
          "name": "stdout"
        }
      ]
    },
    {
      "cell_type": "code",
      "metadata": {
        "colab": {
          "base_uri": "https://localhost:8080/"
        },
        "id": "Ey-Gklbu3ziY",
        "outputId": "0780ac16-3c91-442b-a85b-27bad19f2c69"
      },
      "source": [
        "cnn_model.save('digit_predictor_model_cnn.model') # convolutional neural network"
      ],
      "execution_count": null,
      "outputs": [
        {
          "output_type": "stream",
          "text": [
            "INFO:tensorflow:Assets written to: digit_predictor_model_cnn.model/assets\n"
          ],
          "name": "stdout"
        }
      ]
    },
    {
      "cell_type": "code",
      "metadata": {
        "id": "JpYu4IRa3ziY"
      },
      "source": [
        "cnn_model = tf.keras.models.load_model('digit_predictor_model_cnn.model') # convolutional neural network"
      ],
      "execution_count": null,
      "outputs": []
    },
    {
      "cell_type": "markdown",
      "metadata": {
        "id": "YmY_LcAifh5m"
      },
      "source": [
        "# Machine Learning: RandomForest, DecistionTree, SVM, Naive Bayes"
      ]
    },
    {
      "cell_type": "code",
      "metadata": {
        "id": "PoAt2Vka3ziZ"
      },
      "source": [
        "\n",
        " # https://github.com/pramodini18/Digit-recognition-using-SVM/blob/master/Handwritten%20digit%20recognition%20using%20SVM.ipynb\n",
        "\n",
        "import pandas as pd\n",
        "import numpy as np\n",
        "from keras.datasets import mnist\n",
        "\n",
        "import matplotlib.pyplot as plt\n",
        "import seaborn as sns\n",
        "sns.set()\n",
        "\n",
        "from sklearn.preprocessing import scale\n",
        "from sklearn.model_selection import train_test_split\n",
        "\n",
        "from sklearn import metrics\n",
        "from sklearn.svm import SVC\n",
        "from sklearn.ensemble import RandomForestClassifier\n",
        "from sklearn.tree import DecisionTreeClassifier\n",
        "from sklearn.naive_bayes import GaussianNB\n",
        "\n",
        "\n",
        "from sklearn.model_selection import KFold\n",
        "from sklearn.model_selection import cross_val_score\n",
        "from sklearn.model_selection import GridSearchCV\n",
        "from sklearn.metrics import classification_report, confusion_matrix\n",
        "\n",
        "\n",
        "\n",
        "# load data\n",
        "(X_train, y_train), (X_test, y_test) = mnist.load_data()\n",
        "X_train = X_train.reshape(X_train.shape[0], X_train.shape[1]*X_train.shape[1])\n",
        "X_test = X_test.reshape(X_test.shape[0], X_test.shape[1]*X_test.shape[1])"
      ],
      "execution_count": null,
      "outputs": []
    },
    {
      "cell_type": "markdown",
      "metadata": {
        "id": "sX_37MAnfmYk"
      },
      "source": [
        "Randomforest"
      ]
    },
    {
      "cell_type": "code",
      "metadata": {
        "id": "9cjlKIKg6zsl"
      },
      "source": [
        "randomforest_model = RandomForestClassifier(n_estimators=100)\r\n",
        "randomforest_model.fit(X_train, y_train)\r\n",
        "\r\n",
        "y_pred = randomforest_model.predict(X_test)\r\n",
        "\r\n",
        "randomforest_model_accuracy = metrics.accuracy_score(y_true=y_test, y_pred=y_pred)\r\n",
        "\r\n",
        "# accuracy\r\n",
        "#print(\"accuracy:\", metrics.accuracy_score(y_true=y_test, y_pred=y_pred), \"\\n\")\r\n",
        "\r\n",
        "# cm\r\n",
        "#print(metrics.confusion_matrix(y_true=y_test, y_pred=y_pred))"
      ],
      "execution_count": null,
      "outputs": []
    },
    {
      "cell_type": "markdown",
      "metadata": {
        "id": "UAZvEqCsgNz9"
      },
      "source": [
        "Support Vector Machine: kernel = 'poly', C = 1"
      ]
    },
    {
      "cell_type": "code",
      "metadata": {
        "id": "lFe_eixQ3zia"
      },
      "source": [
        "# non-linear model\n",
        "# using poly kernel, C=1, default value of gamma\n",
        "\n",
        "# model\n",
        "svc_poly_model = SVC(kernel='poly')\n",
        "\n",
        "# fit\n",
        "svc_poly_model.fit(X_train, y_train)\n",
        "\n",
        "# predict\n",
        "y_pred = svc_poly_model.predict(X_test)\n",
        "\n",
        "svc_poly_model_accuracy = metrics.accuracy_score(y_true=y_test, y_pred=y_pred)\n",
        "\n",
        "# confusion matrix and accuracy, precision, recall\n",
        "\n",
        "# accuracy\n",
        "#print(\"accuracy:\", metrics.accuracy_score(y_true=y_test, y_pred=y_pred), \"\\n\")\n",
        "\n",
        "# cm\n",
        "#print(metrics.confusion_matrix(y_true=y_test, y_pred=y_pred))"
      ],
      "execution_count": null,
      "outputs": []
    },
    {
      "cell_type": "markdown",
      "metadata": {
        "id": "4HLMZ4BUhbDF"
      },
      "source": [
        "Decision Tree"
      ]
    },
    {
      "cell_type": "code",
      "metadata": {
        "id": "D9hFYAlF8MOO"
      },
      "source": [
        "decisiontree_model = DecisionTreeClassifier(max_depth=10) #max_depth=10\r\n",
        "\r\n",
        "decisiontree_model.fit(X_train, y_train)\r\n",
        "\r\n",
        "y_pred = decisiontree_model.predict(X_test)\r\n",
        "decisiontree_accuracy = metrics.accuracy_score(y_true=y_test, y_pred=y_pred)\r\n",
        "\r\n",
        "# accuracy\r\n",
        "#print(\"accuracy:\", metrics.accuracy_score(y_true=y_test, y_pred=y_pred), \"\\n\")\r\n",
        "\r\n",
        "# cm\r\n",
        "#print(metrics.confusion_matrix(y_true=y_test, y_pred=y_pred))"
      ],
      "execution_count": null,
      "outputs": []
    },
    {
      "cell_type": "markdown",
      "metadata": {
        "id": "3XMFB9z2grLV"
      },
      "source": [
        "Gaussian Naive Bayes"
      ]
    },
    {
      "cell_type": "code",
      "metadata": {
        "id": "BH8IYn2Vgtsq"
      },
      "source": [
        "gaussianNB_model = GaussianNB()\r\n",
        "gaussianNB_model.fit(X_train, y_train)\r\n",
        "\r\n",
        "y_pred = gaussianNB_model.predict(X_test)\r\n",
        "gaussianNB_model_accuracy = metrics.accuracy_score(y_true=y_test, y_pred=y_pred)\r\n",
        "\r\n",
        "#print(\"accuracy:\", metrics.accuracy_score(y_true=y_test, y_pred=y_pred), \"\\n\")\r\n",
        "\r\n",
        "#print(metrics.confusion_matrix(y_true=y_test, y_pred=y_pred))"
      ],
      "execution_count": null,
      "outputs": []
    },
    {
      "cell_type": "markdown",
      "metadata": {
        "id": "H0cjQzY1vZWm"
      },
      "source": [
        "Put the accuracy of all the models together\r\n",
        "\r\n"
      ]
    },
    {
      "cell_type": "code",
      "metadata": {
        "colab": {
          "base_uri": "https://localhost:8080/"
        },
        "id": "1nLfOLiRvdFF",
        "outputId": "57b21169-6078-495c-b671-66e744d2bb84"
      },
      "source": [
        "print(\"-------- Accuracy of all the models ---------------\")\r\n",
        "print(\"MLP Model: \" + str(mlp_model_accuracy))\r\n",
        "print(\"CNN Model: \"+ str(cnn_model_accuracy))\r\n",
        "print(\"Random Forest Model:\" + str(randomforest_model_accuracy))\r\n",
        "print(\"Decision Tree Model:\" + str(decisiontree_accuracy))\r\n",
        "print(\"SVM Model:\" + str(svc_poly_model_accuracy))\r\n",
        "print(\"Gaussian NB Model:\" + str(gaussianNB_model_accuracy))"
      ],
      "execution_count": null,
      "outputs": [
        {
          "output_type": "stream",
          "text": [
            "-------- Accuracy of all the models ---------------\n",
            "MLP Model: 0.9696000218391418\n",
            "CNN Model: 0.9914000034332275\n",
            "Random Forest Model:0.9699\n",
            "Decision Tree Model:0.8664\n",
            "SVM Model:0.9771\n",
            "Gaussian NB Model:0.5558\n"
          ],
          "name": "stdout"
        }
      ]
    },
    {
      "cell_type": "markdown",
      "metadata": {
        "id": "ju651fD-huah"
      },
      "source": [
        "## Done with DL and ML. Its time to add Local Differential Privacy"
      ]
    },
    {
      "cell_type": "markdown",
      "metadata": {
        "id": "nc7lKo2xzU2y"
      },
      "source": [
        "# **Local Differential Privacy**"
      ]
    },
    {
      "cell_type": "code",
      "metadata": {
        "colab": {
          "base_uri": "https://localhost:8080/"
        },
        "id": "zndkQh1bEYbT",
        "outputId": "48971844-2696-4df8-ad49-d5979bab141e"
      },
      "source": [
        "pip install diffPrivLib"
      ],
      "execution_count": null,
      "outputs": [
        {
          "output_type": "stream",
          "text": [
            "Collecting diffPrivLib\n",
            "\u001b[?25l  Downloading https://files.pythonhosted.org/packages/89/13/8fe48455626a93d9e8549f9c961323b953e09fb8f0ae2f83056ed57a0a69/diffprivlib-0.4.0.tar.gz (76kB)\n",
            "\r\u001b[K     |████▎                           | 10kB 15.2MB/s eta 0:00:01\r\u001b[K     |████████▌                       | 20kB 10.8MB/s eta 0:00:01\r\u001b[K     |████████████▉                   | 30kB 7.7MB/s eta 0:00:01\r\u001b[K     |█████████████████               | 40kB 6.1MB/s eta 0:00:01\r\u001b[K     |█████████████████████▍          | 51kB 3.5MB/s eta 0:00:01\r\u001b[K     |█████████████████████████▋      | 61kB 4.1MB/s eta 0:00:01\r\u001b[K     |█████████████████████████████▉  | 71kB 4.3MB/s eta 0:00:01\r\u001b[K     |████████████████████████████████| 81kB 2.9MB/s \n",
            "\u001b[?25hRequirement already satisfied: numpy>=1.17.0 in /usr/local/lib/python3.6/dist-packages (from diffPrivLib) (1.19.5)\n",
            "Requirement already satisfied: setuptools>=39.0.1 in /usr/local/lib/python3.6/dist-packages (from diffPrivLib) (51.1.1)\n",
            "Requirement already satisfied: scikit-learn>=0.22.0 in /usr/local/lib/python3.6/dist-packages (from diffPrivLib) (0.22.2.post1)\n",
            "Requirement already satisfied: scipy>=1.2.1 in /usr/local/lib/python3.6/dist-packages (from diffPrivLib) (1.4.1)\n",
            "Requirement already satisfied: joblib>=0.11 in /usr/local/lib/python3.6/dist-packages (from diffPrivLib) (1.0.0)\n",
            "Building wheels for collected packages: diffPrivLib\n",
            "  Building wheel for diffPrivLib (setup.py) ... \u001b[?25l\u001b[?25hdone\n",
            "  Created wheel for diffPrivLib: filename=diffprivlib-0.4.0-cp36-none-any.whl size=153475 sha256=628693f8a9476dafd9f5732f32d70a2aeb2c8840da36e8823395ef69dabcc024\n",
            "  Stored in directory: /root/.cache/pip/wheels/8e/b1/57/756d6a954b98452bd026da3067a7a2740b8d46974f41681c6b\n",
            "Successfully built diffPrivLib\n",
            "Installing collected packages: diffPrivLib\n",
            "Successfully installed diffPrivLib-0.4.0\n"
          ],
          "name": "stdout"
        }
      ]
    },
    {
      "cell_type": "code",
      "metadata": {
        "id": "8HQeeotdBUfr"
      },
      "source": [
        "import tensorflow as tf\r\n",
        "import matplotlib.pyplot as plt\r\n",
        "\r\n",
        "#from keras.models import Sequential\r\n",
        "#from keras.layers import Dense\r\n",
        "#from keras.layers import Dropout\r\n",
        "#from keras.layers import Flatten\r\n",
        "#from keras.layers.convolutional import Conv2D\r\n",
        "#from keras.layers.convolutional import MaxPooling2D\r\n",
        "from keras.utils import np_utils\r\n",
        "\r\n",
        "from diffprivlib.mechanisms import Laplace\r\n",
        "import numpy as np"
      ],
      "execution_count": null,
      "outputs": []
    },
    {
      "cell_type": "code",
      "metadata": {
        "id": "zHA_hqT-0VkR"
      },
      "source": [
        "def to_binary(img, threshold):\r\n",
        "    temp_img = img > threshold\r\n",
        "\r\n",
        "    return temp_img*1"
      ],
      "execution_count": null,
      "outputs": []
    },
    {
      "cell_type": "code",
      "metadata": {
        "id": "R0DS3EMHBWoD"
      },
      "source": [
        "mnist = tf.keras.datasets.mnist\r\n",
        "(x_train, y_train), (x_test,y_test) = mnist.load_data()\r\n",
        "\r\n",
        "\r\n",
        "bin_x_train = np.array([to_binary(img, 100) for img in x_train])\r\n",
        "bin_x_test = np.array([to_binary(img, 100) for img in x_test])\r\n",
        "\r\n",
        "cp_x_test = bin_x_test.copy()"
      ],
      "execution_count": null,
      "outputs": []
    },
    {
      "cell_type": "code",
      "metadata": {
        "id": "lfN2fQufEx57"
      },
      "source": [
        "def RandomizePoint(width_fixed, org_point, laplace):\r\n",
        "    priv_x = int(np.ceil(laplace.randomise(org_point[0])))\r\n",
        "    priv_y = int(np.ceil(laplace.randomise(org_point[1])))\r\n",
        "            \r\n",
        "    if priv_x < 0: \r\n",
        "        priv_x= 0\r\n",
        "    elif priv_x >=width_fixed:\r\n",
        "         priv_x = width_fixed-1\r\n",
        "            \r\n",
        "    if priv_y < 0: \r\n",
        "        priv_y = 0\r\n",
        "    elif priv_y >=width_fixed:\r\n",
        "        priv_y = width_fixed-1\r\n",
        "            \r\n",
        "    return (priv_x, priv_y) "
      ],
      "execution_count": null,
      "outputs": []
    },
    {
      "cell_type": "code",
      "metadata": {
        "id": "meYzjQXmRqps"
      },
      "source": [
        "#https://stackoverflow.com/questions/25837544/get-all-points-of-a-straight-line-in-python\r\n",
        "def get_line(x1, y1, x2, y2):\r\n",
        "    points = []\r\n",
        "    issteep = abs(y2-y1) > abs(x2-x1)\r\n",
        "    if issteep:\r\n",
        "        x1, y1 = y1, x1\r\n",
        "        x2, y2 = y2, x2\r\n",
        "    rev = False\r\n",
        "    if x1 > x2:\r\n",
        "        x1, x2 = x2, x1\r\n",
        "        y1, y2 = y2, y1\r\n",
        "        rev = True\r\n",
        "    deltax = x2 - x1\r\n",
        "    deltay = abs(y2-y1)\r\n",
        "    error = int(deltax / 2)\r\n",
        "    y = y1\r\n",
        "    ystep = None\r\n",
        "    if y1 < y2:\r\n",
        "        ystep = 1\r\n",
        "    else:\r\n",
        "        ystep = -1\r\n",
        "    for x in range(x1, x2 + 1):\r\n",
        "        if issteep:\r\n",
        "            points.append((y, x))\r\n",
        "        else:\r\n",
        "            points.append((x, y))\r\n",
        "        error -= deltay\r\n",
        "        if error < 0:\r\n",
        "            y += ystep\r\n",
        "            error += deltax\r\n",
        "    # Reverse the list if the coordinates were reversed\r\n",
        "    if rev:\r\n",
        "        points.reverse()\r\n",
        "    return points"
      ],
      "execution_count": null,
      "outputs": []
    },
    {
      "cell_type": "code",
      "metadata": {
        "id": "1supSBYRNKY_"
      },
      "source": [
        "def generate_noisy_images(bin_x_test, eps):\r\n",
        "    diff_image = np.zeros(bin_x_test.shape)\r\n",
        "\r\n",
        "    laplace = Laplace(epsilon = eps, sensitivity=1)\r\n",
        "\r\n",
        "    for k in range(len(bin_x_test)):\r\n",
        "        prev_pos = None\r\n",
        "        for i in range(28):\r\n",
        "            for j in range(28):\r\n",
        "\r\n",
        "                if bin_x_test[k][i][j]==1:\r\n",
        "                    rand_pos =  RandomizePoint(28, (i,j), laplace)\r\n",
        "\r\n",
        "                    if prev_pos:\r\n",
        "                        points_line = get_line(prev_pos[0], prev_pos[1], rand_pos[0], rand_pos[1])\r\n",
        "\r\n",
        "                        for pos in points_line:\r\n",
        "                            diff_image[k][pos[0]][pos[1]] =  1\r\n",
        "\r\n",
        "                        prev_pos = rand_pos\r\n",
        "                    else:\r\n",
        "                        prev_pos = rand_pos\r\n",
        "    return diff_image\r\n",
        "                "
      ],
      "execution_count": null,
      "outputs": []
    },
    {
      "cell_type": "markdown",
      "metadata": {
        "id": "sNqanWwX4Rla"
      },
      "source": [
        "# **Time to put all the Models to the real test**\r\n",
        "\r\n",
        "\r\n"
      ]
    },
    {
      "cell_type": "code",
      "metadata": {
        "id": "N8zloLnj6H1K"
      },
      "source": [
        "diff_image = generate_noisy_images(bin_x_test, 1)\r\n",
        "\r\n"
      ],
      "execution_count": null,
      "outputs": []
    },
    {
      "cell_type": "code",
      "metadata": {
        "id": "y5uVuYysIMx_"
      },
      "source": [
        "diff_image_mlp = diff_image\r\n",
        "diff_image_cnn = diff_image.reshape((diff_image.shape[0], 28, 28, 1)).astype('float32')\r\n",
        "diff_image_ml = diff_image.reshape(diff_image.shape[0], diff_image.shape[1]*diff_image.shape[1])\r\n",
        "\r\n",
        "val_loss, eps_cnn_model_accuracy = cnn_model.evaluate(diff_image_cnn,y_test)"
      ],
      "execution_count": null,
      "outputs": []
    },
    {
      "cell_type": "markdown",
      "metadata": {
        "id": "KnX_-OBh5blK"
      },
      "source": [
        "eps = 1"
      ]
    },
    {
      "cell_type": "code",
      "metadata": {
        "colab": {
          "base_uri": "https://localhost:8080/"
        },
        "id": "qUYb3mc_4ZmP",
        "outputId": "92e90a43-e7b0-40a9-ce22-a3ae411aa211"
      },
      "source": [
        "for eps in [1, 2, 3, 4, 5, 6, 7, 8, 9 ,10, 15, 20]:\r\n",
        "\r\n",
        "    diff_image = generate_noisy_images(bin_x_test, eps)\r\n",
        "\r\n",
        "    diff_image_mlp = diff_image\r\n",
        "    diff_image_cnn = diff_image.reshape((diff_image.shape[0], 28, 28, 1)).astype('float32')\r\n",
        "    diff_image_ml = diff_image.reshape(diff_image.shape[0], diff_image.shape[1]*diff_image.shape[1])\r\n",
        "\r\n",
        "    val_loss, eps_mlp_model_accuracy = mlp_model.evaluate(diff_image_mlp,y_test)\r\n",
        "\r\n",
        "    #val_loss, eps_cnn_model_accuracy = cnn_model.evaluate(diff_image_cnn,y_test)\r\n",
        "\r\n",
        "    eps_y_pred = randomforest_model.predict(diff_image_ml)\r\n",
        "    eps_randomforest_model_accuracy = metrics.accuracy_score(y_true=y_test, y_pred=eps_y_pred)\r\n",
        "\r\n",
        "    eps_y_pred = svc_poly_model.predict(diff_image_ml)\r\n",
        "    eps_svc_poly_model_accuracy = metrics.accuracy_score(y_true=y_test, y_pred=eps_y_pred)\r\n",
        "\r\n",
        "    eps_y_pred = decisiontree_model.predict(diff_image_ml)\r\n",
        "    eps_decisiontree_accuracy = metrics.accuracy_score(y_true=y_test, y_pred=eps_y_pred)\r\n",
        "\r\n",
        "    eps_y_pred = gaussianNB_model.predict(diff_image_ml)\r\n",
        "    eps_gaussianNB_model_accuracy = metrics.accuracy_score(y_true=y_test, y_pred=eps_y_pred)\r\n",
        "\r\n",
        "\r\n",
        "    print(\"-------- Accuracy of all the models ---------------\")\r\n",
        "    print(\"Epsilon:\" + str(eps))\r\n",
        "    print(\"MLP Model: \" + str(eps_mlp_model_accuracy))\r\n",
        "    #print(\"CNN Model: \"+ str(eps_cnn_model_accuracy))\r\n",
        "    print(\"Random Forest Model:\" + str(eps_randomforest_model_accuracy))\r\n",
        "    print(\"Decision Tree Model:\" + str(eps_decisiontree_accuracy))\r\n",
        "    print(\"SVM Model:\" + str(eps_svc_poly_model_accuracy))\r\n",
        "    print(\"Gaussian NB Model:\" + str(eps_gaussianNB_model_accuracy))"
      ],
      "execution_count": null,
      "outputs": [
        {
          "output_type": "stream",
          "text": [
            "313/313 [==============================] - 0s 956us/step - loss: 6.7887 - accuracy: 0.6303\n",
            "-------- Accuracy of all the models ---------------\n",
            "Epsilon:1\n",
            "MLP Model: 0.630299985408783\n",
            "Random Forest Model:0.3328\n",
            "Decision Tree Model:0.2268\n",
            "SVM Model:0.1135\n",
            "Gaussian NB Model:0.2485\n",
            "313/313 [==============================] - 0s 1ms/step - loss: 5.3827 - accuracy: 0.7319\n",
            "-------- Accuracy of all the models ---------------\n",
            "Epsilon:2\n",
            "MLP Model: 0.7318999767303467\n",
            "Random Forest Model:0.3437\n",
            "Decision Tree Model:0.2402\n",
            "SVM Model:0.1135\n",
            "Gaussian NB Model:0.2045\n",
            "313/313 [==============================] - 0s 1ms/step - loss: 5.3248 - accuracy: 0.7463\n",
            "-------- Accuracy of all the models ---------------\n",
            "Epsilon:3\n",
            "MLP Model: 0.7462999820709229\n",
            "Random Forest Model:0.3504\n",
            "Decision Tree Model:0.2393\n",
            "SVM Model:0.1135\n",
            "Gaussian NB Model:0.1946\n",
            "313/313 [==============================] - 0s 959us/step - loss: 5.3199 - accuracy: 0.7502\n",
            "-------- Accuracy of all the models ---------------\n",
            "Epsilon:4\n",
            "MLP Model: 0.7501999735832214\n",
            "Random Forest Model:0.3405\n",
            "Decision Tree Model:0.2337\n",
            "SVM Model:0.1135\n",
            "Gaussian NB Model:0.1891\n",
            "313/313 [==============================] - 0s 987us/step - loss: 5.3514 - accuracy: 0.7502\n",
            "-------- Accuracy of all the models ---------------\n",
            "Epsilon:5\n",
            "MLP Model: 0.7501999735832214\n",
            "Random Forest Model:0.3392\n",
            "Decision Tree Model:0.2371\n",
            "SVM Model:0.1135\n",
            "Gaussian NB Model:0.1899\n",
            "313/313 [==============================] - 0s 1ms/step - loss: 5.3278 - accuracy: 0.7460\n",
            "-------- Accuracy of all the models ---------------\n",
            "Epsilon:6\n",
            "MLP Model: 0.7459999918937683\n",
            "Random Forest Model:0.3397\n",
            "Decision Tree Model:0.2381\n",
            "SVM Model:0.1135\n",
            "Gaussian NB Model:0.1897\n",
            "313/313 [==============================] - 0s 964us/step - loss: 5.3128 - accuracy: 0.7559\n",
            "-------- Accuracy of all the models ---------------\n",
            "Epsilon:7\n",
            "MLP Model: 0.7559000253677368\n",
            "Random Forest Model:0.3439\n",
            "Decision Tree Model:0.234\n",
            "SVM Model:0.1135\n",
            "Gaussian NB Model:0.187\n",
            "313/313 [==============================] - 0s 991us/step - loss: 5.3840 - accuracy: 0.7484\n",
            "-------- Accuracy of all the models ---------------\n",
            "Epsilon:8\n",
            "MLP Model: 0.7483999729156494\n",
            "Random Forest Model:0.3428\n",
            "Decision Tree Model:0.2348\n",
            "SVM Model:0.1135\n",
            "Gaussian NB Model:0.1866\n",
            "313/313 [==============================] - 0s 1ms/step - loss: 5.2255 - accuracy: 0.7522\n",
            "-------- Accuracy of all the models ---------------\n",
            "Epsilon:9\n",
            "MLP Model: 0.7522000074386597\n",
            "Random Forest Model:0.3426\n",
            "Decision Tree Model:0.2385\n",
            "SVM Model:0.1135\n",
            "Gaussian NB Model:0.188\n",
            "313/313 [==============================] - 0s 997us/step - loss: 5.3298 - accuracy: 0.7483\n",
            "-------- Accuracy of all the models ---------------\n",
            "Epsilon:10\n",
            "MLP Model: 0.7483000159263611\n",
            "Random Forest Model:0.3438\n",
            "Decision Tree Model:0.2371\n",
            "SVM Model:0.1135\n",
            "Gaussian NB Model:0.1868\n",
            "313/313 [==============================] - 0s 974us/step - loss: 5.3015 - accuracy: 0.7537\n",
            "-------- Accuracy of all the models ---------------\n",
            "Epsilon:15\n",
            "MLP Model: 0.7537000179290771\n",
            "Random Forest Model:0.3448\n",
            "Decision Tree Model:0.237\n",
            "SVM Model:0.1135\n",
            "Gaussian NB Model:0.1884\n",
            "313/313 [==============================] - 0s 954us/step - loss: 5.2863 - accuracy: 0.7530\n",
            "-------- Accuracy of all the models ---------------\n",
            "Epsilon:20\n",
            "MLP Model: 0.753000020980835\n",
            "Random Forest Model:0.3421\n",
            "Decision Tree Model:0.2334\n",
            "SVM Model:0.1135\n",
            "Gaussian NB Model:0.1896\n"
          ],
          "name": "stdout"
        }
      ]
    }
  ]
}